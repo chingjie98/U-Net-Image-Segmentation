{
 "cells": [
  {
   "cell_type": "code",
   "execution_count": 1,
   "id": "f63e575e",
   "metadata": {},
   "outputs": [],
   "source": [
    "import os\n",
    "import re\n",
    "from pathlib import Path\n",
    "import numpy as np\n",
    "from patchify import patchify\n",
    "from PIL import Image"
   ]
  },
  {
   "cell_type": "code",
   "execution_count": 2,
   "id": "0764164b",
   "metadata": {},
   "outputs": [],
   "source": [
    "def create_folder():\n",
    "    FOLDERS = ['train', 'val', 'test']\n",
    "    for folder in FOLDERS:\n",
    "        if not os.path.exists(folder):          \n",
    "            folder_imgs = f\"{folder}/images\"\n",
    "            folder_masks = f\"{folder}/masks\"      \n",
    "            \n",
    "            if not os.path.exists(folder_imgs):\n",
    "                os.makedirs(folder_imgs)\n",
    "                \n",
    "            if not os.path.exists(folder_masks):\n",
    "                os.makedirs(folder_masks)"
   ]
  },
  {
   "cell_type": "code",
   "execution_count": 3,
   "id": "127b647b",
   "metadata": {},
   "outputs": [],
   "source": [
    "create_folder()"
   ]
  },
  {
   "cell_type": "code",
   "execution_count": 4,
   "id": "f40f0f14",
   "metadata": {},
   "outputs": [],
   "source": [
    "def create_patches(src_image, dest_path):\n",
    "    path_split = os.path.split(src_image)\n",
    "    tile_num = re.findall(r'\\d+', path_split[0])[0]\n",
    "    \n",
    "    image = Image.open(src_image)\n",
    "    image = np.asarray(image)\n",
    "    if len(image.shape) > 2:  # only if color channel exists as well\n",
    "#         patches = patchify(image, (320, 320, 3), step=300)\n",
    "        patches = patchify(image, (256,256,3), step=256)\n",
    "    \n",
    "        file_name_wo_ext = Path(src_image).stem\n",
    "        for i in range(patches.shape[0]):\n",
    "            for j in range(patches.shape[1]):\n",
    "                patch = patches[i, j, 0]\n",
    "                patch = Image.fromarray(patch)\n",
    "                num = i * patches.shape[1] + j\n",
    "                patch.save(f\"{dest_path}/{file_name_wo_ext}_tile_{tile_num}_patch_{num}.png\")"
   ]
  },
  {
   "cell_type": "code",
   "execution_count": 5,
   "id": "936674e7",
   "metadata": {
    "scrolled": true
   },
   "outputs": [],
   "source": [
    "for path_name, _, file_name in os.walk('data'):\n",
    "    for f in file_name:\n",
    "        if f != 'classes.json':\n",
    "            \n",
    "            path_split = os.path.split(path_name)\n",
    "            tile_num = re.findall(r'\\d+', path_split[0])[0]\n",
    "            \n",
    "            img_type =path_split[1]  \n",
    "            \n",
    "            # leave out tile 2, issues with color dim\n",
    "            if tile_num == '3':\n",
    "                target_folder_imgs = 'val'\n",
    "                target_folder_masks = 'val'\n",
    "            elif tile_num == '1':\n",
    "                target_folder_imgs = 'test'\n",
    "                target_folder_masks = 'test'\n",
    "            elif tile_num in ['4', '5', '6', '7', '8']:\n",
    "                target_folder_imgs = 'train'\n",
    "                target_folder_masks = 'train'\n",
    "            \n",
    "            # copy all images\n",
    "            src_image = os.path.join(path_name, f)\n",
    "            file_name_wo_ext = Path(src_image).stem\n",
    "            # check if file exists in images and masks\n",
    "            img_file = f\"{path_split[0]}/images/{file_name_wo_ext}.jpg\"\n",
    "            mask_file = f\"{path_split[0]}/masks/{file_name_wo_ext}.png\"\n",
    "            if os.path.exists(img_file) and os.path.exists(mask_file):\n",
    "                if img_type == 'images':\n",
    "                    dest = os.path.join(target_folder_imgs, img_type)\n",
    "                    create_patches(src_image=src_image, dest_path=dest)        \n",
    "                \n",
    "                # copy all masks\n",
    "                if img_type == 'masks':\n",
    "                    dest = os.path.join(target_folder_masks, img_type)\n",
    "                    create_patches(src_image=src_image, dest_path=dest)"
   ]
  },
  {
   "cell_type": "markdown",
   "id": "ab8e5c51",
   "metadata": {},
   "source": [
    "<h4> Dataset </h4>"
   ]
  },
  {
   "cell_type": "code",
   "execution_count": 27,
   "id": "fd41030a",
   "metadata": {},
   "outputs": [],
   "source": [
    "from torch.utils.data import Dataset\n",
    "import os\n",
    "from pathlib import Path\n",
    "import torchvision.transforms as transforms"
   ]
  },
  {
   "cell_type": "code",
   "execution_count": 7,
   "id": "9c0df28d",
   "metadata": {},
   "outputs": [],
   "source": [
    "path_name = \"./test\"\n",
    "image_names = os.listdir(f\"{path_name}/images\")"
   ]
  },
  {
   "cell_type": "code",
   "execution_count": 8,
   "id": "10a6d87f",
   "metadata": {},
   "outputs": [],
   "source": [
    "image_paths = [f\"{path_name}/images/{i}\" for i in image_names]"
   ]
  },
  {
   "cell_type": "code",
   "execution_count": 9,
   "id": "c064e092",
   "metadata": {},
   "outputs": [
    {
     "name": "stdout",
     "output_type": "stream",
     "text": [
      "Building: 44.65\n",
      "Land: 91.57\n",
      "Road: 172.16\n",
      "Vegetation: 212.26\n",
      "Water: 171.43\n",
      "Unlabeled: 154.98\n"
     ]
    }
   ],
   "source": [
    "# Function to convert hexadecimal color code to grayscale intensity value\n",
    "def hex_to_intensity(hex_color):\n",
    "    # Convert hexadecimal color to RGB\n",
    "    rgb = tuple(int(hex_color[i:i+2], 16) for i in (1, 3, 5))  # Extract RGB components\n",
    "\n",
    "    # Calculate intensity value (grayscale) from RGB using luminance formula\n",
    "    intensity = 0.2989 * rgb[0] + 0.5870 * rgb[1] + 0.1140 * rgb[2]\n",
    "    \n",
    "    return intensity\n",
    "\n",
    "# Hexadecimal color codes for classes\n",
    "colors = {\n",
    "    'Building': '#3C1098',\n",
    "    'Land': '#8429F6',\n",
    "    'Road': '#6EC1E4',\n",
    "    'Vegetation': '#FEDD3A',\n",
    "    'Water': '#E2A929',\n",
    "    'Unlabeled': '#9B9B9B'\n",
    "}\n",
    "\n",
    "# Calculate intensity values for each class color\n",
    "for class_name, hex_code in colors.items():\n",
    "    intensity = hex_to_intensity(hex_code)\n",
    "    print(f\"{class_name}: {intensity:.2f}\")\n"
   ]
  },
  {
   "cell_type": "code",
   "execution_count": 30,
   "id": "1a5dfebb",
   "metadata": {},
   "outputs": [],
   "source": [
    "class SegmentationDataset(Dataset):\n",
    "    \n",
    "    def __init__(self, path_name):    #pathname refers to either train, test, val\n",
    "        super().__init__()\n",
    "        self.image_names = os.listdir(f\"{path_name}/images\")\n",
    "        #image_part_001_tile_1_patch_0.png\n",
    "        \n",
    "        self.image_paths = [f\"{path_name}/images/{i}\" for i in self.image_names]\n",
    "        #'./test/images/image_part_001_tile_1_patch_0.png'\n",
    "        \n",
    "        self.mask_names = os.listdir(f\"{path_name}/masks\")\n",
    "        self.mask_paths = [f\"{path_name}/masks/{i}\" for i in self.mask_names]\n",
    "        \n",
    "#exclude images that don't exist in both folder-------------------\n",
    "        self.img_stem = [Path(i).stem for i in self.image_paths]\n",
    "        #image_part_001_tile_1_patch_0\n",
    "        \n",
    "        self.mask_stem = [Path(i).stem for i in self.mask_paths]\n",
    "        self.img_mask_stem = set(self.img_stem) & set(self.mask_stem)\n",
    "        self.image_paths = [i for i in self.image_paths if (Path(i).stem in self.img_mask_stem)]\n",
    "    \n",
    "    def __len__(self):\n",
    "        return len(self.img_mask_stem)\n",
    "    \n",
    "    def convert_mask(self, mask):            #obtained after converting RGB to gray-scaled from kaggle dataset.\n",
    "        mask[mask == 155] = 0  # unlabeled\n",
    "        mask[mask == 44] = 1  # building\n",
    "        mask[mask == 91] = 2  # land\n",
    "        mask[mask == 171] = 3  # water\n",
    "        mask[mask == 172] = 4  # road\n",
    "        mask[mask == 212] = 5  # vegetation\n",
    "        return mask   \n",
    "    \n",
    "    def __getitem__(self, index):\n",
    "        image = Image.open(self.image_paths[index])\n",
    "        transform = transforms.ToTensor()\n",
    "        image = transform(image)\n",
    "        \n",
    "        mask = Image.open(self.mask_paths[index]).convert(\"L\")    #to grayscale image\n",
    "        mask = transform(mask)\n",
    "        mask = self.convert_mask(mask)\n",
    "        \n",
    "        return image, mask"
   ]
  },
  {
   "cell_type": "markdown",
   "id": "36a9ee6d",
   "metadata": {},
   "source": [
    "### Model "
   ]
  },
  {
   "cell_type": "code",
   "execution_count": 40,
   "id": "b83d436b",
   "metadata": {},
   "outputs": [],
   "source": [
    "import numpy as np\n",
    "import torch\n",
    "import torch.nn as nn\n",
    "from torch.utils.data import DataLoader\n",
    "import seaborn as sns\n",
    "import matplotlib.pyplot as plt"
   ]
  },
  {
   "cell_type": "code",
   "execution_count": 41,
   "id": "6c2f5305",
   "metadata": {},
   "outputs": [],
   "source": [
    "DEVICE = 'cuda' if torch.cuda.is_available() else \"cpu\"\n",
    "EPOCHS = 5\n",
    "BS = 4"
   ]
  },
  {
   "cell_type": "code",
   "execution_count": 43,
   "id": "6166f49e",
   "metadata": {},
   "outputs": [],
   "source": [
    "train_ds = SegmentationDataset(\"./train\")\n",
    "train_dataloader = DataLoader(train_ds, batch_size = BS, shuffle = True)\n",
    "\n",
    "val_ds = SegmentationDataset(\"./val\")\n",
    "val_dataloader = DataLoader(val_ds, batch_size = BS, shuffle = True)"
   ]
  },
  {
   "cell_type": "code",
   "execution_count": 46,
   "id": "e903fbf6",
   "metadata": {},
   "outputs": [
    {
     "ename": "AttributeError",
     "evalue": "'DataLoader' object has no attribute 'shape'",
     "output_type": "error",
     "traceback": [
      "\u001b[1;31m---------------------------------------------------------------------------\u001b[0m",
      "\u001b[1;31mAttributeError\u001b[0m                            Traceback (most recent call last)",
      "Cell \u001b[1;32mIn[46], line 1\u001b[0m\n\u001b[1;32m----> 1\u001b[0m \u001b[43mtrain_dataloader\u001b[49m\u001b[38;5;241;43m.\u001b[39;49m\u001b[43mshape\u001b[49m()\n",
      "\u001b[1;31mAttributeError\u001b[0m: 'DataLoader' object has no attribute 'shape'"
     ]
    }
   ],
   "source": [
    "train_dataloader.shape()"
   ]
  },
  {
   "cell_type": "code",
   "execution_count": 53,
   "id": "917a2463",
   "metadata": {},
   "outputs": [
    {
     "data": {
      "text/plain": [
       "torch.Size([4, 3, 256, 256])"
      ]
     },
     "execution_count": 53,
     "metadata": {},
     "output_type": "execute_result"
    }
   ],
   "source": [
    "next(iter(train_dataloader))[0].shape"
   ]
  }
 ],
 "metadata": {
  "kernelspec": {
   "display_name": "Python 3 (ipykernel)",
   "language": "python",
   "name": "python3"
  },
  "language_info": {
   "codemirror_mode": {
    "name": "ipython",
    "version": 3
   },
   "file_extension": ".py",
   "mimetype": "text/x-python",
   "name": "python",
   "nbconvert_exporter": "python",
   "pygments_lexer": "ipython3",
   "version": "3.11.1"
  }
 },
 "nbformat": 4,
 "nbformat_minor": 5
}
